{
 "cells": [
  {
   "cell_type": "code",
   "execution_count": 1,
   "metadata": {},
   "outputs": [],
   "source": [
    "import sqlite3\n",
    "\n",
    "conn = sqlite3.connect(\"cricsheet_database.db\")\n"
   ]
  },
  {
   "cell_type": "code",
   "execution_count": 2,
   "metadata": {},
   "outputs": [
    {
     "name": "stdout",
     "output_type": "stream",
     "text": [
      "Table Created Successfully\n"
     ]
    }
   ],
   "source": [
    "# Create the table for test matches\n",
    "conn.execute('''\n",
    "    CREATE TABLE test_matches (\n",
    "    ID INT PRIMARY KEY,\n",
    "    Match_Event VARCHAR(200),\n",
    "    Match_Winner VARCHAR(50),\n",
    "    Player_of_Match VARCHAR(50),\n",
    "    Season VARCHAR(50),\n",
    "    Toss_Decision VARCHAR(10),\n",
    "    Toss_Winner VARCHAR(20),\n",
    "    Venue VARCHAR(20),\n",
    "    Team VARCHAR(20),\n",
    "    Over VARCHAR(20),\n",
    "    Batter VARCHAR(50),\n",
    "    Bowler VARCHAR(50),\n",
    "    Non_Striker VARCHAR(50),\n",
    "    Batter_Runs INT,\n",
    "    Extras_Runs INT,\n",
    "    Total_Runs INT,\n",
    "    Player_Out VARCHAR(50)        \n",
    ")\n",
    "''')\n",
    "\n",
    "print(\"Table Created Successfully\")\n"
   ]
  },
  {
   "cell_type": "code",
   "execution_count": 6,
   "metadata": {},
   "outputs": [
    {
     "name": "stdout",
     "output_type": "stream",
     "text": [
      "Table Created Successfully\n"
     ]
    }
   ],
   "source": [
    "# Create the table for ODI matches\n",
    "conn.execute('''\n",
    "    CREATE TABLE odi_matches (\n",
    "    ID INT PRIMARY KEY,\n",
    "    Match_Event VARCHAR(200),\n",
    "    Match_Winner VARCHAR(50),\n",
    "    Player_of_Match VARCHAR(50),\n",
    "    Season VARCHAR(50),\n",
    "    Toss_Decision VARCHAR(10),\n",
    "    Toss_Winner VARCHAR(20),\n",
    "    Venue VARCHAR(20),\n",
    "    Team VARCHAR(20),\n",
    "    Over VARCHAR(20),\n",
    "    Batter VARCHAR(50),\n",
    "    Bowler VARCHAR(50),\n",
    "    Non_Striker VARCHAR(50),\n",
    "    Batter_Runs INT,\n",
    "    Extras_Runs INT,\n",
    "    Total_Runs INT,\n",
    "    Player_Out VARCHAR(50)        \n",
    ")\n",
    "''')\n",
    "\n",
    "print(\"Table Created Successfully\")\n"
   ]
  },
  {
   "cell_type": "code",
   "execution_count": 7,
   "metadata": {},
   "outputs": [
    {
     "name": "stdout",
     "output_type": "stream",
     "text": [
      "Table Created Successfully\n"
     ]
    }
   ],
   "source": [
    "# Create the table for t20 matches\n",
    "conn.execute('''\n",
    "    CREATE TABLE t20_matches (\n",
    "    ID INT PRIMARY KEY,\n",
    "    Match_Winner VARCHAR(50),\n",
    "    Player_of_Match VARCHAR(50),\n",
    "    Season VARCHAR(50),\n",
    "    Toss_Decision VARCHAR(10),\n",
    "    Toss_Winner VARCHAR(20),\n",
    "    Venue VARCHAR(20),\n",
    "    Team VARCHAR(20),\n",
    "    Over VARCHAR(20),\n",
    "    Batter VARCHAR(50),\n",
    "    Bowler VARCHAR(50),\n",
    "    Non_Striker VARCHAR(50),\n",
    "    Batter_Runs INT,\n",
    "    Extras_Runs INT,\n",
    "    Total_Runs INT,\n",
    "    Player_Out VARCHAR(50)        \n",
    ")\n",
    "''')\n",
    "\n",
    "print(\"Table Created Successfully\")\n"
   ]
  },
  {
   "cell_type": "code",
   "execution_count": 8,
   "metadata": {},
   "outputs": [
    {
     "name": "stderr",
     "output_type": "stream",
     "text": [
      "C:\\Users\\MANAV\\AppData\\Local\\Temp\\ipykernel_9756\\2280263133.py:11: DtypeWarning: Columns (3) have mixed types. Specify dtype option on import or set low_memory=False.\n",
      "  odi_df = pd.read_csv(\"ODI_data_final.csv\")\n",
      "C:\\Users\\MANAV\\AppData\\Local\\Temp\\ipykernel_9756\\2280263133.py:14: DtypeWarning: Columns (3) have mixed types. Specify dtype option on import or set low_memory=False.\n",
      "  t20_df = pd.read_csv(\"T20s_data_final.csv\")\n"
     ]
    },
    {
     "data": {
      "text/plain": [
       "630877"
      ]
     },
     "execution_count": 8,
     "metadata": {},
     "output_type": "execute_result"
    }
   ],
   "source": [
    "import sqlite3\n",
    "import pandas as pd\n",
    "\n",
    "# Connect to SQLite database\n",
    "conn = sqlite3.connect(\"cricsheet_database.db\")\n",
    "\n",
    "# Insert data from CSV\n",
    "test_df = pd.read_csv(\"Test_data_final.csv\")\n",
    "test_df.to_sql('test_matches', conn, if_exists='replace', index=False)\n",
    "\n",
    "odi_df = pd.read_csv(\"ODI_data_final.csv\")\n",
    "odi_df.to_sql('odi_matches', conn, if_exists='replace', index=False)\n",
    "\n",
    "t20_df = pd.read_csv(\"T20s_data_final.csv\")\n",
    "t20_df.to_sql('t20_matches', conn, if_exists='replace', index=False)"
   ]
  }
 ],
 "metadata": {
  "kernelspec": {
   "display_name": "Python 3",
   "language": "python",
   "name": "python3"
  },
  "language_info": {
   "codemirror_mode": {
    "name": "ipython",
    "version": 3
   },
   "file_extension": ".py",
   "mimetype": "text/x-python",
   "name": "python",
   "nbconvert_exporter": "python",
   "pygments_lexer": "ipython3",
   "version": "3.11.1"
  }
 },
 "nbformat": 4,
 "nbformat_minor": 2
}

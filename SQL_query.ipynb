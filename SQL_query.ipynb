{
 "cells": [
  {
   "cell_type": "code",
   "execution_count": 3,
   "metadata": {},
   "outputs": [],
   "source": [
    "import sqlite3\n",
    "\n",
    "# Connect to the database\n",
    "conn = sqlite3.connect(\"cricsheet_database.db\")\n",
    "cursor = conn.cursor()\n"
   ]
  },
  {
   "cell_type": "code",
   "execution_count": 5,
   "metadata": {},
   "outputs": [
    {
     "name": "stdout",
     "output_type": "stream",
     "text": [
      "Top 10 Batsmen by Total Runs in Test Matches:\n",
      "JE Root: 11281 runs\n",
      "AN Cook: 11268 runs\n",
      "SPD Smith: 8717 runs\n",
      "V Kohli: 8138 runs\n",
      "KS Williamson: 8046 runs\n",
      "HM Amla: 8044 runs\n",
      "KC Sangakkara: 7587 runs\n",
      "DA Warner: 7548 runs\n",
      "AB de Villiers: 7218 runs\n",
      "AD Mathews: 7024 runs\n"
     ]
    }
   ],
   "source": [
    "# SQL query to find top 10 batsmen by total runs\n",
    "query = \"\"\"\n",
    "SELECT \n",
    "    Batter AS Batsman,\n",
    "    SUM(\"Batter_Runs\") AS Total_Runs\n",
    "FROM \n",
    "    test_matches\n",
    "GROUP BY \n",
    "    Batter\n",
    "ORDER BY \n",
    "    Total_Runs DESC\n",
    "LIMIT 10;\n",
    "\"\"\"\n",
    "\n",
    "# Execute the query\n",
    "cursor.execute(query)\n",
    "results = cursor.fetchall()\n",
    "\n",
    "# Display the results\n",
    "print(\"Top 10 Batsmen by Total Runs in Test Matches:\")\n",
    "for row in results:\n",
    "    print(f\"{row[0]}: {row[1]} runs\")\n"
   ]
  },
  {
   "cell_type": "code",
   "execution_count": 10,
   "metadata": {},
   "outputs": [
    {
     "name": "stdout",
     "output_type": "stream",
     "text": [
      "Top 10 Batsmen by Total Runs in ODIs:\n",
      "Batsman: V Kohli, Total Runs: 13784\n",
      "Batsman: KC Sangakkara, Total Runs: 11618\n",
      "Batsman: RG Sharma, Total Runs: 10646\n",
      "Batsman: MS Dhoni, Total Runs: 10274\n",
      "Batsman: AB de Villiers, Total Runs: 9435\n",
      "Batsman: TM Dilshan, Total Runs: 9212\n",
      "Batsman: LRPL Taylor, Total Runs: 8126\n",
      "Batsman: DPMD Jayawardene, Total Runs: 8040\n",
      "Batsman: HM Amla, Total Runs: 7834\n",
      "Batsman: Tamim Iqbal, Total Runs: 7648\n"
     ]
    }
   ],
   "source": [
    "import sqlite3\n",
    "\n",
    "# Connect to the database\n",
    "conn = sqlite3.connect(\"cricsheet_database.db\")\n",
    "cursor = conn.cursor()  # Create a cursor object\n",
    "\n",
    "# Define the query\n",
    "query_odi = \"\"\"\n",
    "SELECT \n",
    "    Batter AS Batsman,\n",
    "    SUM(Batter_Runs) AS Total_Runs\n",
    "FROM odi_matches\n",
    "GROUP BY Batsman\n",
    "ORDER BY Total_Runs DESC\n",
    "LIMIT 10;\n",
    "\"\"\"\n",
    "\n",
    "try:\n",
    "    # Execute the query\n",
    "    cursor.execute(query_odi)\n",
    "    results = cursor.fetchall()\n",
    "\n",
    "    # Display the results\n",
    "    print(\"Top 10 Batsmen by Total Runs in ODIs:\")\n",
    "    for row in results:\n",
    "        print(f\"Batsman: {row[0]}, Total Runs: {row[1]}\")\n",
    "\n",
    "except sqlite3.Error as e:\n",
    "    print(\"An error occurred:\", e)\n",
    "\n",
    "finally:\n",
    "    # Close the cursor and connection\n",
    "    cursor.close()\n",
    "    conn.close()"
   ]
  },
  {
   "cell_type": "code",
   "execution_count": 11,
   "metadata": {},
   "outputs": [
    {
     "name": "stdout",
     "output_type": "stream",
     "text": [
      "Top 10 Batsmen by Total Runs in T20s:\n",
      "Batsman: RG Sharma, Total Runs: 3256\n",
      "Batsman: Babar Azam, Total Runs: 3249\n",
      "Batsman: V Kohli, Total Runs: 3090\n",
      "Batsman: MJ Guptill, Total Runs: 2902\n",
      "Batsman: JC Buttler, Total Runs: 2672\n",
      "Batsman: Mohammad Rizwan, Total Runs: 2643\n",
      "Batsman: DA Warner, Total Runs: 2584\n",
      "Batsman: S Mandhana, Total Runs: 2551\n",
      "Batsman: AJ Finch, Total Runs: 2470\n",
      "Batsman: SW Bates, Total Runs: 2381\n"
     ]
    }
   ],
   "source": [
    "import sqlite3\n",
    "\n",
    "# Connect to the database\n",
    "conn = sqlite3.connect(\"cricsheet_database.db\")\n",
    "cursor = conn.cursor()  # Create a cursor object\n",
    "\n",
    "# Define the query\n",
    "query_odi = \"\"\"\n",
    "SELECT \n",
    "    Batter AS Batsman,\n",
    "    SUM(Batter_Runs) AS Total_Runs\n",
    "FROM t20_matches\n",
    "GROUP BY Batsman\n",
    "ORDER BY Total_Runs DESC\n",
    "LIMIT 10;\n",
    "\"\"\"\n",
    "\n",
    "try:\n",
    "    # Execute the query\n",
    "    cursor.execute(query_odi)\n",
    "    results = cursor.fetchall()\n",
    "\n",
    "    # Display the results\n",
    "    print(\"Top 10 Batsmen by Total Runs in T20s:\")\n",
    "    for row in results:\n",
    "        print(f\"Batsman: {row[0]}, Total Runs: {row[1]}\")\n",
    "\n",
    "except sqlite3.Error as e:\n",
    "    print(\"An error occurred:\", e)\n",
    "\n",
    "finally:\n",
    "    # Close the cursor and connection\n",
    "    cursor.close()\n",
    "    conn.close()"
   ]
  },
  {
   "cell_type": "code",
   "execution_count": 24,
   "metadata": {},
   "outputs": [
    {
     "name": "stdout",
     "output_type": "stream",
     "text": [
      "Highest Wicket Taker: TG Southee, Total Wickets: 175\n"
     ]
    }
   ],
   "source": [
    "import sqlite3\n",
    "\n",
    "# Connect to the database\n",
    "connection = sqlite3.connect('cricsheet_database.db')\n",
    "cursor = connection.cursor()\n",
    "\n",
    "# SQL query to find the highest wicket-taker\n",
    "query = \"\"\"\n",
    "SELECT \n",
    "    Bowler AS Highest_Wicket_Taker,\n",
    "    COUNT(Player_Out) AS Total_Wickets\n",
    "FROM \n",
    "    t20_matches\n",
    "WHERE \n",
    "    Bowler IS NOT NULL \n",
    "    AND Bowler != ''\n",
    "    AND Player_Out IS NOT NULL \n",
    "    AND Player_Out != '0'\n",
    "GROUP BY \n",
    "    Bowler\n",
    "ORDER BY \n",
    "    Total_Wickets DESC\n",
    "LIMIT 1;\n",
    "\"\"\"\n",
    "\n",
    "try:\n",
    "    # Execute the query\n",
    "    cursor.execute(query)\n",
    "    result = cursor.fetchone()\n",
    "    \n",
    "    if result:\n",
    "        print(f\"Highest Wicket Taker: {result[0]}, Total Wickets: {result[1]}\")\n",
    "    else:\n",
    "        print(\"No data found for highest wicket-taker.\")\n",
    "except sqlite3.Error as e:\n",
    "    print(f\"An error occurred: {e}\")\n",
    "finally:\n",
    "    # Close the database connection\n",
    "    connection.close()\n"
   ]
  },
  {
   "cell_type": "code",
   "execution_count": 32,
   "metadata": {},
   "outputs": [
    {
     "name": "stdout",
     "output_type": "stream",
     "text": [
      "Top 5 Teams with the Highest Win Percentage in ODI Cricket:\n",
      "1. Thailand - 90.07%\n",
      "2. Asia XI - 74.07%\n",
      "3. Australia - 66.89%\n",
      "4. South Africa - 60.29%\n",
      "5. India - 58.87%\n"
     ]
    }
   ],
   "source": [
    "import sqlite3\n",
    "\n",
    "# Connect to the database\n",
    "connection = sqlite3.connect('cricsheet_database.db')\n",
    "cursor = connection.cursor()\n",
    "\n",
    "# SQL query to find the top 5 teams with the highest win percentage\n",
    "query = \"\"\"\n",
    "SELECT \n",
    "    Team AS Team_Name,\n",
    "    COUNT(CASE WHEN Match_Winner = Team THEN 1 END) * 100.0 / COUNT(*) AS Win_Percentage\n",
    "FROM \n",
    "    odi_matches\n",
    "GROUP BY \n",
    "    Team\n",
    "ORDER BY \n",
    "    Win_Percentage DESC\n",
    "LIMIT 5;\n",
    "\"\"\"\n",
    "\n",
    "try:\n",
    "    # Execute the query\n",
    "    cursor.execute(query)\n",
    "    results = cursor.fetchall()\n",
    "    \n",
    "    # Display the results\n",
    "    print(\"Top 5 Teams with the Highest Win Percentage in ODI Cricket:\")\n",
    "    for rank, row in enumerate(results, start=1):\n",
    "        print(f\"{rank}. {row[0]} - {row[1]:.2f}%\")\n",
    "except sqlite3.Error as e:\n",
    "    print(f\"An error occurred: {e}\")\n",
    "finally:\n",
    "    # Close the connection\n",
    "    connection.close()\n"
   ]
  },
  {
   "cell_type": "code",
   "execution_count": 7,
   "metadata": {},
   "outputs": [
    {
     "name": "stdout",
     "output_type": "stream",
     "text": [
      "Toss Winner Loses Match: 318170 matches, 50.43%\n",
      "Toss Winner Wins Match: 312707 matches, 49.57%\n"
     ]
    }
   ],
   "source": [
    "import sqlite3\n",
    "\n",
    "# Connect to the database\n",
    "connection = sqlite3.connect('cricsheet_database.db')\n",
    "cursor = connection.cursor()\n",
    "\n",
    "# SQL query to find toss match outcome percentages that add up to 100%\n",
    "query = \"\"\"\n",
    "SELECT \n",
    "    CASE \n",
    "        WHEN Toss_Winner = Match_Winner THEN 'Toss Winner Wins Match'\n",
    "        ELSE 'Toss Winner Loses Match'\n",
    "    END AS Toss_Match_Outcome,\n",
    "    COUNT(*) AS Match_Count\n",
    "FROM \n",
    "    t20_matches\n",
    "GROUP BY \n",
    "    Toss_Match_Outcome;\n",
    "\n",
    "\"\"\"\n",
    "\n",
    "# Execute the query\n",
    "cursor.execute(query)\n",
    "\n",
    "# Fetch and print the results\n",
    "results = cursor.fetchall()\n",
    "total_matches = sum(row[1] for row in results)  # Calculate the total number of matches\n",
    "\n",
    "# Adjust percentages to ensure they sum to 100%\n",
    "adjusted_results = [(row[0], row[1], round((row[1] / total_matches) * 100, 2)) for row in results]\n",
    "\n",
    "# Display the results\n",
    "for outcome, count, percentage in adjusted_results:\n",
    "    print(f\"{outcome}: {count} matches, {percentage}%\")\n",
    "\n",
    "# Close the connection\n",
    "connection.close()\n"
   ]
  },
  {
   "cell_type": "code",
   "execution_count": 13,
   "metadata": {},
   "outputs": [
    {
     "name": "stdout",
     "output_type": "stream",
     "text": [
      "Top 10 Bowlers with Most Extra Runs:\n",
      "1. ML Schutt - 236 extra runs\n",
      "2. MA Starc - 194 extra runs\n",
      "3. TG Southee - 180 extra runs\n",
      "4. SL Malinga - 176 extra runs\n",
      "5. Mustafizur Rahman - 176 extra runs\n",
      "6. M Akayezu - 166 extra runs\n",
      "7. PA van Meekeren - 153 extra runs\n",
      "8. MR Adair - 150 extra runs\n",
      "9. Shaheen Shah Afridi - 148 extra runs\n",
      "10. A Shrubsole - 144 extra runs\n"
     ]
    }
   ],
   "source": [
    "import sqlite3\n",
    "\n",
    "# Connect to the database\n",
    "connection = sqlite3.connect('cricsheet_database.db')\n",
    "cursor = connection.cursor()\n",
    "\n",
    "# SQL query to find the top 10 bowlers who gave the most extra runs\n",
    "query = \"\"\"\n",
    "SELECT \n",
    "    Bowler AS Bowler_Name,\n",
    "    SUM([Extras_Runs]) AS Total_Extras\n",
    "FROM \n",
    "    t20_matches\n",
    "WHERE \n",
    "    Bowler IS NOT NULL AND Bowler != ''\n",
    "GROUP BY \n",
    "    Bowler\n",
    "ORDER BY \n",
    "    Total_Extras DESC\n",
    "LIMIT 10;\n",
    "\"\"\"\n",
    "\n",
    "# Execute the query\n",
    "cursor.execute(query)\n",
    "\n",
    "# Fetch and display the results\n",
    "results = cursor.fetchall()\n",
    "print(\"Top 10 Bowlers with Most Extra Runs:\")\n",
    "for rank, (bowler, total_extras) in enumerate(results, start=1):\n",
    "    print(f\"{rank}. {bowler} - {total_extras} extra runs\")\n",
    "\n",
    "# Close the connection\n",
    "connection.close()"
   ]
  }
 ],
 "metadata": {
  "kernelspec": {
   "display_name": "Python 3",
   "language": "python",
   "name": "python3"
  },
  "language_info": {
   "codemirror_mode": {
    "name": "ipython",
    "version": 3
   },
   "file_extension": ".py",
   "mimetype": "text/x-python",
   "name": "python",
   "nbconvert_exporter": "python",
   "pygments_lexer": "ipython3",
   "version": "3.11.1"
  }
 },
 "nbformat": 4,
 "nbformat_minor": 2
}
